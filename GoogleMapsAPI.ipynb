{
  "nbformat": 4,
  "nbformat_minor": 0,
  "metadata": {
    "colab": {
      "name": "GoogleMapsAPI.ipynb",
      "provenance": [],
      "authorship_tag": "ABX9TyOyJWA342da2z/y26uqiZL2",
      "include_colab_link": true
    },
    "kernelspec": {
      "name": "python3",
      "display_name": "Python 3"
    },
    "language_info": {
      "name": "python"
    }
  },
  "cells": [
    {
      "cell_type": "markdown",
      "metadata": {
        "id": "view-in-github",
        "colab_type": "text"
      },
      "source": [
        "<a href=\"https://colab.research.google.com/github/keertanavc/COVID-Death-Count-Est/blob/main/GoogleMapsAPI.ipynb\" target=\"_parent\"><img src=\"https://colab.research.google.com/assets/colab-badge.svg\" alt=\"Open In Colab\"/></a>"
      ]
    },
    {
      "cell_type": "markdown",
      "metadata": {
        "id": "QkpeTWrwuIzz"
      },
      "source": [
        "**Code to fetch long, lat information from Google Maps**"
      ]
    },
    {
      "cell_type": "markdown",
      "metadata": {
        "id": "SiN9QrQs-18a"
      },
      "source": [
        "Remarks:\n",
        "1. API_KEY used is the key for Google Places API. Refer this tutorial for key generation: https://ultimateelementor.com/docs/get-google-places-api-key/\n",
        "\n",
        "2. Documentation for the places API: https://developers.google.cn/maps/documentation/places/web-service/search?hl=zh-cn#PlaceSearchResults\n",
        "\n",
        "3. First \\$300 worth calls are free after which \\$200 worth calls are free every month per account\n",
        "\n"
      ]
    },
    {
      "cell_type": "code",
      "metadata": {
        "id": "74KLolE3IxGC"
      },
      "source": [
        "import requests\n",
        "import pandas as pd"
      ],
      "execution_count": 39,
      "outputs": []
    },
    {
      "cell_type": "code",
      "metadata": {
        "id": "cznQqGlyuJvL"
      },
      "source": [
        "API_KEY = '<enter your API key here>'\n",
        "search_term = 'Crematoriums in benares india'"
      ],
      "execution_count": 34,
      "outputs": []
    },
    {
      "cell_type": "code",
      "metadata": {
        "id": "0U0SJzUhAm1b"
      },
      "source": [
        "# Generating request URL\n",
        "url1 = 'https://maps.googleapis.com/maps/api/place/textsearch/json?'\n",
        "url2 = 'query=' + search_term.replace(' ', '+')\n",
        "url3 = '&key=' + str(API_KEY)\n",
        "request_url = url1 + url2 + url3"
      ],
      "execution_count": 35,
      "outputs": []
    },
    {
      "cell_type": "code",
      "metadata": {
        "id": "V4f_oP9KAoJd"
      },
      "source": [
        "# Request call to Google places API\n",
        "r = requests.get(request_url)\n",
        "data = r.json()"
      ],
      "execution_count": 60,
      "outputs": []
    },
    {
      "cell_type": "code",
      "metadata": {
        "id": "h9IuQPhWHfiA"
      },
      "source": [
        "# Extracting relevant information from request results\n",
        "lst = []\n",
        "for i in data['results']:\n",
        "  name = i['name']\n",
        "  add = i['formatted_address']\n",
        "  location = i['geometry']['location']\n",
        "  lat = location['lat']\n",
        "  lng = location['lng']\n",
        "  lst.append([name, add, lat, lng])"
      ],
      "execution_count": 61,
      "outputs": []
    },
    {
      "cell_type": "code",
      "metadata": {
        "id": "XreBklLbHgJ5"
      },
      "source": [
        "# Formatting resutls\n",
        "df = pd.DataFrame(lst)\n",
        "df.columns = ['name', 'address', 'lat', 'long']"
      ],
      "execution_count": 62,
      "outputs": []
    },
    {
      "cell_type": "code",
      "metadata": {
        "colab": {
          "base_uri": "https://localhost:8080/",
          "height": 266
        },
        "id": "1lwHj44mJT0p",
        "outputId": "5598650a-9d0c-4fbc-e043-f656bb5fb12b"
      },
      "source": [
        "df"
      ],
      "execution_count": 63,
      "outputs": [
        {
          "output_type": "execute_result",
          "data": {
            "text/html": [
              "<div>\n",
              "<style scoped>\n",
              "    .dataframe tbody tr th:only-of-type {\n",
              "        vertical-align: middle;\n",
              "    }\n",
              "\n",
              "    .dataframe tbody tr th {\n",
              "        vertical-align: top;\n",
              "    }\n",
              "\n",
              "    .dataframe thead th {\n",
              "        text-align: right;\n",
              "    }\n",
              "</style>\n",
              "<table border=\"1\" class=\"dataframe\">\n",
              "  <thead>\n",
              "    <tr style=\"text-align: right;\">\n",
              "      <th></th>\n",
              "      <th>name</th>\n",
              "      <th>address</th>\n",
              "      <th>lat</th>\n",
              "      <th>long</th>\n",
              "    </tr>\n",
              "  </thead>\n",
              "  <tbody>\n",
              "    <tr>\n",
              "      <th>0</th>\n",
              "      <td>Cremation in varanasi</td>\n",
              "      <td>Ck 10/77 Chowk Brahmnal Madikandika Ghat, Vara...</td>\n",
              "      <td>25.311571</td>\n",
              "      <td>83.012939</td>\n",
              "    </tr>\n",
              "    <tr>\n",
              "      <th>1</th>\n",
              "      <td>Electric Crematory</td>\n",
              "      <td>Sonarpura Road, Harishchandra Ghat, Bangali To...</td>\n",
              "      <td>25.298240</td>\n",
              "      <td>83.007075</td>\n",
              "    </tr>\n",
              "    <tr>\n",
              "      <th>2</th>\n",
              "      <td>DLW GRAVEYARD</td>\n",
              "      <td>North, Kakarmata, Varanasi, Uttar Pradesh 2210...</td>\n",
              "      <td>25.290735</td>\n",
              "      <td>82.967297</td>\n",
              "    </tr>\n",
              "    <tr>\n",
              "      <th>3</th>\n",
              "      <td>श्री हरीशचंद्र घाट</td>\n",
              "      <td>Harishchandra Ghat, Bangali Tola, Varanasi, Ut...</td>\n",
              "      <td>25.298181</td>\n",
              "      <td>83.007461</td>\n",
              "    </tr>\n",
              "    <tr>\n",
              "      <th>4</th>\n",
              "      <td>Manikarnika Ghat</td>\n",
              "      <td>near Lalita Ghat, Ghats of Varanasi, Lahori To...</td>\n",
              "      <td>25.310811</td>\n",
              "      <td>83.014085</td>\n",
              "    </tr>\n",
              "    <tr>\n",
              "      <th>5</th>\n",
              "      <td>Crematorium/शमशान घाट</td>\n",
              "      <td>Unnamed Road, Newada, Uttar Pradesh 221403, India</td>\n",
              "      <td>25.387021</td>\n",
              "      <td>82.817650</td>\n",
              "    </tr>\n",
              "    <tr>\n",
              "      <th>6</th>\n",
              "      <td>JRM MODERN PUBLIC SCHOOL</td>\n",
              "      <td>CHOLAPUR AZAMGARH ROAD VARANASI, VARANASI, Utt...</td>\n",
              "      <td>25.474043</td>\n",
              "      <td>83.005251</td>\n",
              "    </tr>\n",
              "  </tbody>\n",
              "</table>\n",
              "</div>"
            ],
            "text/plain": [
              "                       name  ...       long\n",
              "0     Cremation in varanasi  ...  83.012939\n",
              "1        Electric Crematory  ...  83.007075\n",
              "2             DLW GRAVEYARD  ...  82.967297\n",
              "3        श्री हरीशचंद्र घाट  ...  83.007461\n",
              "4          Manikarnika Ghat  ...  83.014085\n",
              "5     Crematorium/शमशान घाट  ...  82.817650\n",
              "6  JRM MODERN PUBLIC SCHOOL  ...  83.005251\n",
              "\n",
              "[7 rows x 4 columns]"
            ]
          },
          "metadata": {
            "tags": []
          },
          "execution_count": 63
        }
      ]
    },
    {
      "cell_type": "code",
      "metadata": {
        "id": "ggEdYu0_JY65"
      },
      "source": [
        ""
      ],
      "execution_count": null,
      "outputs": []
    }
  ]
}